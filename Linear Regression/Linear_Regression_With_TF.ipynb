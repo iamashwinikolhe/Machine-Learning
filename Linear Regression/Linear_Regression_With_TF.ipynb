{
 "cells": [
  {
   "cell_type": "markdown",
   "metadata": {},
   "source": [
    "Linear Regression"
   ]
  },
  {
   "cell_type": "code",
   "execution_count": 1,
   "metadata": {},
   "outputs": [],
   "source": [
    "import numpy as np\r\n",
    "import tensorflow as tf\r\n",
    "import matplotlib.pyplot as plt\r\n"
   ]
  },
  {
   "cell_type": "code",
   "execution_count": 3,
   "metadata": {},
   "outputs": [],
   "source": [
    "np.random.seed(101)\r\n",
    "tf.random.set_seed(101)\r\n"
   ]
  },
  {
   "cell_type": "markdown",
   "metadata": {},
   "source": [
    "Now, let us generate some random data for training the Linear Regression Model."
   ]
  },
  {
   "cell_type": "code",
   "execution_count": 4,
   "metadata": {},
   "outputs": [],
   "source": [
    "# Generating random linear data\r\n",
    "# There will be 50 data points ranging from 0 to 50\r\n",
    "x = np.linspace(0, 50, 50)\r\n",
    "y = np.linspace(0, 50, 50)\r\n",
    "\r\n",
    "# Adding noise to the random linear data\r\n",
    "x += np.random.uniform(-4, 4, 50)\r\n",
    "y += np.random.uniform(-4, 4, 50)\r\n",
    "\r\n",
    "n = len(x) # Number of data points\r\n"
   ]
  },
  {
   "cell_type": "markdown",
   "metadata": {},
   "source": [
    "Let us visualize the training data."
   ]
  },
  {
   "cell_type": "code",
   "execution_count": 5,
   "metadata": {},
   "outputs": [
    {
     "data": {
      "image/png": "[encoded data removed]",
      "text/plain": "<Figure size 432x288 with 1 Axes>"
     },
     "metadata": {
      "needs_background": "light"
     },
     "output_type": "display_data"
    }
   ],
   "source": [
    "# Plot of Training Data\r\n",
    "plt.scatter(x, y)\r\n",
    "plt.xlabel('x')\r\n",
    "plt.xlabel('y')\r\n",
    "plt.title(\"Training Data\")\r\n",
    "plt.show()\r\n"
   ]
  },
  {
   "cell_type": "markdown",
   "metadata": {},
   "source": [
    "X = tf.placeholder(\"float\")\r\n",
    "Y = tf.placeholder(\"float\")\r\n"
   ]
  },
  {
   "cell_type": "code",
   "execution_count": 7,
   "metadata": {},
   "outputs": [
    {
     "name": "stdout",
     "output_type": "stream",
     "text": [
      "WARNING:tensorflow:From C:\\Python37\\lib\\site-packages\\tensorflow\\python\\compat\\v2_compat.py:96: disable_resource_variables (from tensorflow.python.ops.variable_scope) is deprecated and will be removed in a future version.\n",
      "Instructions for updating:\n",
      "non-resource variables are not supported in the long term\n"
     ]
    }
   ],
   "source": [
    "import tensorflow.compat.v1 as tf\r\n",
    "tf.disable_v2_behavior() \r\n",
    "\r\n",
    "X = tf.placeholder(\"float\")\r\n",
    "Y = tf.placeholder(\"float\")\r\n"
   ]
  },
  {
   "cell_type": "markdown",
   "metadata": {},
   "source": [
    "Now we will declare two trainable Tensorflow Variables for the Weights and Bias and initializing them randomly using np.random.randn()."
   ]
  },
  {
   "cell_type": "code",
   "execution_count": 8,
   "metadata": {},
   "outputs": [],
   "source": [
    "W = tf.Variable(np.random.randn(), name = \"W\")\r\n",
    "b = tf.Variable(np.random.randn(), name = \"b\")\r\n"
   ]
  },
  {
   "cell_type": "markdown",
   "metadata": {},
   "source": [
    "Now we will define the hyperparameters of the model, the Learning Rate and the number of Epochs."
   ]
  },
  {
   "cell_type": "code",
   "execution_count": 9,
   "metadata": {},
   "outputs": [],
   "source": [
    "learning_rate = 0.01\r\n",
    "training_epochs = 1000\r\n"
   ]
  },
  {
   "cell_type": "code",
   "execution_count": 10,
   "metadata": {},
   "outputs": [],
   "source": [
    "# Hypothesis\r\n",
    "y_pred = tf.add(tf.multiply(X, W), b)\r\n",
    "\r\n",
    "# Mean Squared Error Cost Function\r\n",
    "cost = tf.reduce_sum(tf.pow(y_pred-Y, 2)) / (2 * n)\r\n",
    "\r\n",
    "# Gradient Descent Optimizer\r\n",
    "optimizer = tf.train.GradientDescentOptimizer(learning_rate).minimize(cost)\r\n",
    "\r\n",
    "# Global Variables Initializer\r\n",
    "init = tf.global_variables_initializer()\r\n"
   ]
  },
  {
   "cell_type": "code",
   "execution_count": 11,
   "metadata": {},
   "outputs": [
    {
     "name": "stdout",
     "output_type": "stream",
     "text": [
      "Epoch 50 : cost = 5.886804 W = 0.9951241 b = 1.2381054\n",
      "Epoch 100 : cost = 5.7912707 W = 0.99812365 b = 1.0914398\n",
      "Epoch 150 : cost = 5.7119675 W = 1.0008028 b = 0.96044314\n",
      "Epoch 200 : cost = 5.6459417 W = 1.0031956 b = 0.8434396\n",
      "Epoch 250 : cost = 5.590799 W = 1.0053328 b = 0.7389357\n",
      "Epoch 300 : cost = 5.544608 W = 1.007242 b = 0.6455922\n",
      "Epoch 350 : cost = 5.5057883 W = 1.008947 b = 0.56222\n",
      "Epoch 400 : cost = 5.473066 W = 1.01047 b = 0.48775345\n",
      "Epoch 450 : cost = 5.4453845 W = 1.0118302 b = 0.42124167\n",
      "Epoch 500 : cost = 5.421903 W = 1.0130452 b = 0.36183488\n",
      "Epoch 550 : cost = 5.4019217 W = 1.0141305 b = 0.30877414\n",
      "Epoch 600 : cost = 5.3848577 W = 1.0150996 b = 0.26138115\n",
      "Epoch 650 : cost = 5.3702464 W = 1.0159653 b = 0.21905091\n",
      "Epoch 700 : cost = 5.3577 W = 1.0167387 b = 0.18124212\n",
      "Epoch 750 : cost = 5.3468933 W = 1.0174294 b = 0.14747244\n",
      "Epoch 800 : cost = 5.3375573 W = 1.0180461 b = 0.11730931\n",
      "Epoch 850 : cost = 5.3294764 W = 1.0185971 b = 0.090368524\n",
      "Epoch 900 : cost = 5.322459 W = 1.0190892 b = 0.0663058\n",
      "Epoch 950 : cost = 5.3163586 W = 1.0195289 b = 0.044813324\n",
      "Epoch 1000 : cost = 5.3110332 W = 1.0199214 b = 0.02561663\n"
     ]
    }
   ],
   "source": [
    "\r\n",
    "# Starting the Tensorflow Session\r\n",
    "with tf.Session() as sess:\r\n",
    "\t\r\n",
    "\t# Initializing the Variables\r\n",
    "\tsess.run(init)\r\n",
    "\t\r\n",
    "\t# Iterating through all the epochs\r\n",
    "\tfor epoch in range(training_epochs):\r\n",
    "\t\t\r\n",
    "\t\t# Feeding each data point into the optimizer using Feed Dictionary\r\n",
    "\t\tfor (_x, _y) in zip(x, y):\r\n",
    "\t\t\tsess.run(optimizer, feed_dict = {X : _x, Y : _y})\r\n",
    "\t\t\r\n",
    "\t\t# Displaying the result after every 50 epochs\r\n",
    "\t\tif (epoch + 1) % 50 == 0:\r\n",
    "\t\t\t# Calculating the cost a every epoch\r\n",
    "\t\t\tc = sess.run(cost, feed_dict = {X : x, Y : y})\r\n",
    "\t\t\tprint(\"Epoch\", (epoch + 1), \": cost =\", c, \"W =\", sess.run(W), \"b =\", sess.run(b))\r\n",
    "\t\r\n",
    "\t# Storing necessary values to be used outside the Session\r\n",
    "\ttraining_cost = sess.run(cost, feed_dict ={X: x, Y: y})\r\n",
    "\tweight = sess.run(W)\r\n",
    "\tbias = sess.run(b)\r\n"
   ]
  },
  {
   "cell_type": "code",
   "execution_count": 12,
   "metadata": {},
   "outputs": [
    {
     "name": "stdout",
     "output_type": "stream",
     "text": [
      "Training cost = 5.3110332 Weight = 1.0199214 bias = 0.02561663 \n",
      "\n"
     ]
    }
   ],
   "source": [
    "# Calculating the predictions\r\n",
    "predictions = weight * x + bias\r\n",
    "print(\"Training cost =\", training_cost, \"Weight =\", weight, \"bias =\", bias, '\\n')\r\n"
   ]
  },
  {
   "cell_type": "code",
   "execution_count": 13,
   "metadata": {},
   "outputs": [
    {
     "data": {
      "image/png": "[encoded data removed]",
      "text/plain": "<Figure size 432x288 with 1 Axes>"
     },
     "metadata": {
      "needs_background": "light"
     },
     "output_type": "display_data"
    }
   ],
   "source": [
    "# Plotting the Results\r\n",
    "plt.plot(x, y, 'ro', label ='Original data')\r\n",
    "plt.plot(x, predictions, label ='Fitted line')\r\n",
    "plt.title('Linear Regression Result')\r\n",
    "plt.legend()\r\n",
    "plt.show()\r\n"
   ]
  }
 ],
 "metadata": {
  "kernelspec": {
   "display_name": "Python 3.7.9 64-bit",
   "metadata": {
    "interpreter": {
     "hash": "04635d289a519a1410467dd0afb0db42f9184808881ca68b2eb5a687a20a5a94"
    }
   },
   "name": "python3"
  },
  "language_info": {
   "codemirror_mode": {
    "name": "ipython",
    "version": 3
   },
   "file_extension": ".py",
   "mimetype": "text/x-python",
   "name": "python",
   "nbconvert_exporter": "python",
   "pygments_lexer": "ipython3",
   "version": "3.7.9"
  },
  "orig_nbformat": 2
 },
 "nbformat": 4,
 "nbformat_minor": 2
}